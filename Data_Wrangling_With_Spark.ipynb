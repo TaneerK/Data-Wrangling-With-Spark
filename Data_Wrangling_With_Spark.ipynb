{
  "nbformat": 4,
  "nbformat_minor": 0,
  "metadata": {
    "colab": {
      "name": "Data_Wrangling_With_Spark.ipynb",
      "provenance": [],
      "collapsed_sections": [],
      "authorship_tag": "ABX9TyPDmCjcsBeXLoeea7RPYYBO",
      "include_colab_link": true
    },
    "kernelspec": {
      "name": "python3",
      "display_name": "Python 3"
    },
    "language_info": {
      "name": "python"
    }
  },
  "cells": [
    {
      "cell_type": "markdown",
      "metadata": {
        "id": "view-in-github",
        "colab_type": "text"
      },
      "source": [
        "<a href=\"https://colab.research.google.com/github/TaneerK/Data-Wrangling-With-Spark/blob/main/Data_Wrangling_With_Spark.ipynb\" target=\"_parent\"><img src=\"https://colab.research.google.com/assets/colab-badge.svg\" alt=\"Open In Colab\"/></a>"
      ]
    },
    {
      "cell_type": "code",
      "execution_count": 1,
      "metadata": {
        "id": "ZDmH8f2irIcc"
      },
      "outputs": [],
      "source": [
        "# install java\n",
        "!apt-get install openjdk-8-jdk-headless -qq > /dev/null\n",
        "\n",
        "# install spark (change the version number if needed)\n",
        "!wget -q https://archive.apache.org/dist/spark/spark-3.2.1/spark-3.2.1-bin-hadoop3.2.tgz\n",
        "\n",
        "# unzip the spark file to the current folder\n",
        "!tar xf spark-3.2.1-bin-hadoop3.2.tgz\n",
        "\n",
        "# set your spark folder to your system path environment. \n",
        "import os\n",
        "os.environ[\"JAVA_HOME\"] = \"/usr/lib/jvm/java-8-openjdk-amd64\"\n",
        "os.environ[\"SPARK_HOME\"] = \"/content/spark-3.2.1-bin-hadoop3.2\"\n",
        "\n",
        "\n",
        "# install findspark using pip\n",
        "!pip install -q findspark"
      ]
    },
    {
      "cell_type": "code",
      "source": [
        "import findspark"
      ],
      "metadata": {
        "id": "hqPvyMLZscjW"
      },
      "execution_count": 2,
      "outputs": []
    },
    {
      "cell_type": "code",
      "source": [
        "findspark.init()"
      ],
      "metadata": {
        "id": "ABs4uCY7snGl"
      },
      "execution_count": 5,
      "outputs": []
    },
    {
      "cell_type": "code",
      "source": [
        "from pyspark.sql import SparkSession\n",
        "from pyspark.sql.functions import udf\n",
        "from pyspark.sql.types import StringType\n",
        "from pyspark.sql.types import IntegerType\n",
        "from pyspark.sql.functions import desc\n",
        "from pyspark.sql.functions import asc\n",
        "from pyspark.sql.functions import sum as Fsum\n",
        "\n",
        "import datetime\n",
        "\n",
        "import numpy as np\n",
        "import pandas as pd\n",
        "\n",
        "%matplotlib inline\n",
        "import matplotlib.pyplot as plt\n",
        "\n",
        "\n",
        "\n",
        "\n"
      ],
      "metadata": {
        "id": "4H1MISI7sq6V"
      },
      "execution_count": 12,
      "outputs": []
    },
    {
      "cell_type": "code",
      "source": [
        "spark = SparkSession.builder\\\n",
        "        .master(\"local\")\\\n",
        "        .appName(\"Data Wrangling with Spark\")\\\n",
        "        .getOrCreate()"
      ],
      "metadata": {
        "id": "A-FP8wQ5xkx3"
      },
      "execution_count": 15,
      "outputs": []
    },
    {
      "cell_type": "code",
      "source": [
        "path = \"/content/sparkify_log_small.json\""
      ],
      "metadata": {
        "id": "ILsZyBB5xG55"
      },
      "execution_count": 16,
      "outputs": []
    },
    {
      "cell_type": "code",
      "source": [
        "user_log = spark.read.json(path)"
      ],
      "metadata": {
        "id": "cAgsWM1GxMst"
      },
      "execution_count": 17,
      "outputs": []
    },
    {
      "cell_type": "code",
      "source": [
        "user_log.take(5)"
      ],
      "metadata": {
        "colab": {
          "base_uri": "https://localhost:8080/"
        },
        "id": "MXE5iVeExynr",
        "outputId": "f32cc406-8504-40c8-8086-47d031bd607e"
      },
      "execution_count": 18,
      "outputs": [
        {
          "output_type": "execute_result",
          "data": {
            "text/plain": [
              "[Row(artist='Showaddywaddy', auth='Logged In', firstName='Kenneth', gender='M', itemInSession=112, lastName='Matthews', length=232.93342, level='paid', location='Charlotte-Concord-Gastonia, NC-SC', method='PUT', page='NextSong', registration=1509380319284, sessionId=5132, song='Christmas Tears Will Fall', status=200, ts=1513720872284, userAgent='\"Mozilla/5.0 (Windows NT 6.1) AppleWebKit/537.36 (KHTML, like Gecko) Chrome/36.0.1985.125 Safari/537.36\"', userId='1046'),\n",
              " Row(artist='Lily Allen', auth='Logged In', firstName='Elizabeth', gender='F', itemInSession=7, lastName='Chase', length=195.23873, level='free', location='Shreveport-Bossier City, LA', method='PUT', page='NextSong', registration=1512718541284, sessionId=5027, song='Cheryl Tweedy', status=200, ts=1513720878284, userAgent='\"Mozilla/5.0 (Windows NT 6.1) AppleWebKit/537.36 (KHTML, like Gecko) Chrome/36.0.1985.143 Safari/537.36\"', userId='1000'),\n",
              " Row(artist='Cobra Starship Featuring Leighton Meester', auth='Logged In', firstName='Vera', gender='F', itemInSession=6, lastName='Blackwell', length=196.20526, level='paid', location='Racine, WI', method='PUT', page='NextSong', registration=1499855749284, sessionId=5516, song='Good Girls Go Bad (Feat.Leighton Meester) (Album Version)', status=200, ts=1513720881284, userAgent='\"Mozilla/5.0 (Macintosh; Intel Mac OS X 10_9_4) AppleWebKit/537.78.2 (KHTML, like Gecko) Version/7.0.6 Safari/537.78.2\"', userId='2219'),\n",
              " Row(artist='Alex Smoke', auth='Logged In', firstName='Sophee', gender='F', itemInSession=8, lastName='Barker', length=405.99465, level='paid', location='San Luis Obispo-Paso Robles-Arroyo Grande, CA', method='PUT', page='NextSong', registration=1513009647284, sessionId=2372, song=\"Don't See The Point\", status=200, ts=1513720905284, userAgent='\"Mozilla/5.0 (Windows NT 6.1; WOW64) AppleWebKit/537.36 (KHTML, like Gecko) Chrome/36.0.1985.143 Safari/537.36\"', userId='2373'),\n",
              " Row(artist=None, auth='Logged In', firstName='Jordyn', gender='F', itemInSession=0, lastName='Jones', length=None, level='free', location='Syracuse, NY', method='GET', page='Home', registration=1513648531284, sessionId=1746, song=None, status=200, ts=1513720913284, userAgent='\"Mozilla/5.0 (Macintosh; Intel Mac OS X 10_9_4) AppleWebKit/537.36 (KHTML, like Gecko) Chrome/37.0.2062.94 Safari/537.36\"', userId='1747')]"
            ]
          },
          "metadata": {},
          "execution_count": 18
        }
      ]
    },
    {
      "cell_type": "code",
      "source": [
        "user_log.printSchema()"
      ],
      "metadata": {
        "colab": {
          "base_uri": "https://localhost:8080/"
        },
        "id": "4GMU9QEqyfn2",
        "outputId": "68d03960-cdd0-492b-b305-4c4b9baf2974"
      },
      "execution_count": 19,
      "outputs": [
        {
          "output_type": "stream",
          "name": "stdout",
          "text": [
            "root\n",
            " |-- artist: string (nullable = true)\n",
            " |-- auth: string (nullable = true)\n",
            " |-- firstName: string (nullable = true)\n",
            " |-- gender: string (nullable = true)\n",
            " |-- itemInSession: long (nullable = true)\n",
            " |-- lastName: string (nullable = true)\n",
            " |-- length: double (nullable = true)\n",
            " |-- level: string (nullable = true)\n",
            " |-- location: string (nullable = true)\n",
            " |-- method: string (nullable = true)\n",
            " |-- page: string (nullable = true)\n",
            " |-- registration: long (nullable = true)\n",
            " |-- sessionId: long (nullable = true)\n",
            " |-- song: string (nullable = true)\n",
            " |-- status: long (nullable = true)\n",
            " |-- ts: long (nullable = true)\n",
            " |-- userAgent: string (nullable = true)\n",
            " |-- userId: string (nullable = true)\n",
            "\n"
          ]
        }
      ]
    },
    {
      "cell_type": "code",
      "source": [
        "user_log.describe().show()\n"
      ],
      "metadata": {
        "colab": {
          "base_uri": "https://localhost:8080/"
        },
        "id": "6ohoIaM2ykKl",
        "outputId": "4c7af661-5a1a-48c3-aa1c-d9a31ce91a6e"
      },
      "execution_count": 21,
      "outputs": [
        {
          "output_type": "stream",
          "name": "stdout",
          "text": [
            "+-------+-----------------+----------+---------+------+------------------+--------+-----------------+-----+------------+------+-------+--------------------+------------------+--------+------------------+--------------------+--------------------+------------------+\n",
            "|summary|           artist|      auth|firstName|gender|     itemInSession|lastName|           length|level|    location|method|   page|        registration|         sessionId|    song|            status|                  ts|           userAgent|            userId|\n",
            "+-------+-----------------+----------+---------+------+------------------+--------+-----------------+-----+------------+------+-------+--------------------+------------------+--------+------------------+--------------------+--------------------+------------------+\n",
            "|  count|             8347|     10000|     9664|  9664|             10000|    9664|             8347|10000|        9664| 10000|  10000|                9664|             10000|    8347|             10000|               10000|                9664|             10000|\n",
            "|   mean|            461.0|      null|     null|  null|           19.6734|    null|249.6486587492503| null|        null|  null|   null|1.504695369588739...|         4436.7511|Infinity|          202.8984|  1.5137859954164E12|                null|1442.4413286423842|\n",
            "| stddev|            300.0|      null|     null|  null|25.382114916132597|    null|95.00437130781461| null|        null|  null|   null|  8.47314252131657E9|2043.1281541827557|     NaN|18.041791154505876|3.2908288623601213E7|                null| 829.8909432082613|\n",
            "|    min|              !!!|     Guest|   Aakash|     F|                 0| Acevedo|          1.12281| free|Aberdeen, WA|   GET|  About|       1463503881284|                 9|      #1|               200|       1513720872284|\"Mozilla/5.0 (Mac...|                  |\n",
            "|    max|ÃÂlafur Arnalds|Logged Out|     Zoie|     M|               163|  Zuniga|        1806.8371| paid|    Yuma, AZ|   PUT|Upgrade|       1513760702284|              7144|wingless|               404|       1513848349284|Mozilla/5.0 (comp...|               999|\n",
            "+-------+-----------------+----------+---------+------+------------------+--------+-----------------+-----+------------+------+-------+--------------------+------------------+--------+------------------+--------------------+--------------------+------------------+\n",
            "\n"
          ]
        },
        {
          "output_type": "execute_result",
          "data": {
            "text/plain": [
              "10000"
            ]
          },
          "metadata": {},
          "execution_count": 21
        }
      ]
    },
    {
      "cell_type": "code",
      "source": [
        "user_log.describe(\"artist\").show()"
      ],
      "metadata": {
        "colab": {
          "base_uri": "https://localhost:8080/"
        },
        "id": "hnRB0Pfay7wE",
        "outputId": "7cfa5442-6b70-4b6a-9cb5-955e64962c23"
      },
      "execution_count": 22,
      "outputs": [
        {
          "output_type": "stream",
          "name": "stdout",
          "text": [
            "+-------+-----------------+\n",
            "|summary|           artist|\n",
            "+-------+-----------------+\n",
            "|  count|             8347|\n",
            "|   mean|            461.0|\n",
            "| stddev|            300.0|\n",
            "|    min|              !!!|\n",
            "|    max|ÃÂlafur Arnalds|\n",
            "+-------+-----------------+\n",
            "\n"
          ]
        }
      ]
    },
    {
      "cell_type": "code",
      "source": [
        "user_log.describe(\"sessionId\").show()"
      ],
      "metadata": {
        "colab": {
          "base_uri": "https://localhost:8080/"
        },
        "id": "J9SnLpbNzG5T",
        "outputId": "7ce807b8-2ae5-42f1-dd9b-a2cc0809e26a"
      },
      "execution_count": 23,
      "outputs": [
        {
          "output_type": "stream",
          "name": "stdout",
          "text": [
            "+-------+------------------+\n",
            "|summary|         sessionId|\n",
            "+-------+------------------+\n",
            "|  count|             10000|\n",
            "|   mean|         4436.7511|\n",
            "| stddev|2043.1281541827557|\n",
            "|    min|                 9|\n",
            "|    max|              7144|\n",
            "+-------+------------------+\n",
            "\n"
          ]
        }
      ]
    },
    {
      "cell_type": "code",
      "source": [
        "user_log.count()"
      ],
      "metadata": {
        "colab": {
          "base_uri": "https://localhost:8080/"
        },
        "id": "17J-WUO9zbXU",
        "outputId": "d9cb6a63-41c5-443e-cdaf-653fab6eefdf"
      },
      "execution_count": 24,
      "outputs": [
        {
          "output_type": "execute_result",
          "data": {
            "text/plain": [
              "10000"
            ]
          },
          "metadata": {},
          "execution_count": 24
        }
      ]
    },
    {
      "cell_type": "code",
      "source": [
        "user_log.select(\"page\").dropDuplicates().show()"
      ],
      "metadata": {
        "colab": {
          "base_uri": "https://localhost:8080/"
        },
        "id": "7lbigWtkzdwj",
        "outputId": "9dc2454c-5750-450f-b130-ed982a613733"
      },
      "execution_count": 27,
      "outputs": [
        {
          "output_type": "stream",
          "name": "stdout",
          "text": [
            "+----------------+\n",
            "|            page|\n",
            "+----------------+\n",
            "|Submit Downgrade|\n",
            "|            Home|\n",
            "|       Downgrade|\n",
            "|          Logout|\n",
            "|   Save Settings|\n",
            "|           About|\n",
            "|        Settings|\n",
            "|           Login|\n",
            "|        NextSong|\n",
            "|            Help|\n",
            "|         Upgrade|\n",
            "|           Error|\n",
            "|  Submit Upgrade|\n",
            "+----------------+\n",
            "\n"
          ]
        }
      ]
    },
    {
      "cell_type": "code",
      "source": [
        "user_log.select([\"userID\", \"firstName\", \"page\", \"song\"]).where(user_log.userId == \"1046\").collect()"
      ],
      "metadata": {
        "colab": {
          "base_uri": "https://localhost:8080/"
        },
        "id": "zx9GY7uI0HCi",
        "outputId": "bd684bb8-d773-4990-f703-c242e7c23106"
      },
      "execution_count": 28,
      "outputs": [
        {
          "output_type": "execute_result",
          "data": {
            "text/plain": [
              "[Row(userID='1046', firstName='Kenneth', page='NextSong', song='Christmas Tears Will Fall'),\n",
              " Row(userID='1046', firstName='Kenneth', page='NextSong', song='Be Wary Of A Woman'),\n",
              " Row(userID='1046', firstName='Kenneth', page='NextSong', song='Public Enemy No.1'),\n",
              " Row(userID='1046', firstName='Kenneth', page='NextSong', song='Reign Of The Tyrants'),\n",
              " Row(userID='1046', firstName='Kenneth', page='NextSong', song='Father And Son'),\n",
              " Row(userID='1046', firstName='Kenneth', page='NextSong', song='No. 5'),\n",
              " Row(userID='1046', firstName='Kenneth', page='NextSong', song='Seventeen'),\n",
              " Row(userID='1046', firstName='Kenneth', page='Home', song=None),\n",
              " Row(userID='1046', firstName='Kenneth', page='NextSong', song='War on war'),\n",
              " Row(userID='1046', firstName='Kenneth', page='NextSong', song='Killermont Street'),\n",
              " Row(userID='1046', firstName='Kenneth', page='NextSong', song='Black & Blue'),\n",
              " Row(userID='1046', firstName='Kenneth', page='Logout', song=None),\n",
              " Row(userID='1046', firstName='Kenneth', page='Home', song=None),\n",
              " Row(userID='1046', firstName='Kenneth', page='NextSong', song='Heads Will Roll'),\n",
              " Row(userID='1046', firstName='Kenneth', page='NextSong', song='Bleed It Out [Live At Milton Keynes]'),\n",
              " Row(userID='1046', firstName='Kenneth', page='NextSong', song='Clocks'),\n",
              " Row(userID='1046', firstName='Kenneth', page='NextSong', song='Love Rain'),\n",
              " Row(userID='1046', firstName='Kenneth', page='NextSong', song=\"Ry Ry's Song (Album Version)\"),\n",
              " Row(userID='1046', firstName='Kenneth', page='NextSong', song='The Invisible Man'),\n",
              " Row(userID='1046', firstName='Kenneth', page='NextSong', song='Catch You Baby (Steve Pitron & Max Sanna Radio Edit)'),\n",
              " Row(userID='1046', firstName='Kenneth', page='NextSong', song='Ask The Mountains'),\n",
              " Row(userID='1046', firstName='Kenneth', page='NextSong', song='Given Up (Album Version)'),\n",
              " Row(userID='1046', firstName='Kenneth', page='NextSong', song='El Cuatrero'),\n",
              " Row(userID='1046', firstName='Kenneth', page='NextSong', song='Hero/Heroine'),\n",
              " Row(userID='1046', firstName='Kenneth', page='NextSong', song='Spring'),\n",
              " Row(userID='1046', firstName='Kenneth', page='NextSong', song='Rising Moon'),\n",
              " Row(userID='1046', firstName='Kenneth', page='NextSong', song='Tough Little Boys'),\n",
              " Row(userID='1046', firstName='Kenneth', page='NextSong', song=\"Qu'Est-Ce Que T'Es Belle\"),\n",
              " Row(userID='1046', firstName='Kenneth', page='NextSong', song='Secrets'),\n",
              " Row(userID='1046', firstName='Kenneth', page='NextSong', song='Under The Gun')]"
            ]
          },
          "metadata": {},
          "execution_count": 28
        }
      ]
    },
    {
      "cell_type": "code",
      "source": [
        "get_hour = udf(lambda x: datetime.datetime.fromtimestamp(x / 1000.0). hour)"
      ],
      "metadata": {
        "id": "YUE2Ppth0xGg"
      },
      "execution_count": 29,
      "outputs": []
    },
    {
      "cell_type": "code",
      "source": [
        "user_log = user_log.withColumn(\"hour\", get_hour(user_log.ts))"
      ],
      "metadata": {
        "id": "gXlK-NcB1vfg"
      },
      "execution_count": 30,
      "outputs": []
    },
    {
      "cell_type": "code",
      "source": [
        "user_log.take(5)"
      ],
      "metadata": {
        "colab": {
          "base_uri": "https://localhost:8080/"
        },
        "id": "uyvvHjqn2BSt",
        "outputId": "95ed9b09-553a-456a-c9b4-36213c83ba8f"
      },
      "execution_count": 32,
      "outputs": [
        {
          "output_type": "execute_result",
          "data": {
            "text/plain": [
              "[Row(artist='Showaddywaddy', auth='Logged In', firstName='Kenneth', gender='M', itemInSession=112, lastName='Matthews', length=232.93342, level='paid', location='Charlotte-Concord-Gastonia, NC-SC', method='PUT', page='NextSong', registration=1509380319284, sessionId=5132, song='Christmas Tears Will Fall', status=200, ts=1513720872284, userAgent='\"Mozilla/5.0 (Windows NT 6.1) AppleWebKit/537.36 (KHTML, like Gecko) Chrome/36.0.1985.125 Safari/537.36\"', userId='1046', hour='22'),\n",
              " Row(artist='Lily Allen', auth='Logged In', firstName='Elizabeth', gender='F', itemInSession=7, lastName='Chase', length=195.23873, level='free', location='Shreveport-Bossier City, LA', method='PUT', page='NextSong', registration=1512718541284, sessionId=5027, song='Cheryl Tweedy', status=200, ts=1513720878284, userAgent='\"Mozilla/5.0 (Windows NT 6.1) AppleWebKit/537.36 (KHTML, like Gecko) Chrome/36.0.1985.143 Safari/537.36\"', userId='1000', hour='22'),\n",
              " Row(artist='Cobra Starship Featuring Leighton Meester', auth='Logged In', firstName='Vera', gender='F', itemInSession=6, lastName='Blackwell', length=196.20526, level='paid', location='Racine, WI', method='PUT', page='NextSong', registration=1499855749284, sessionId=5516, song='Good Girls Go Bad (Feat.Leighton Meester) (Album Version)', status=200, ts=1513720881284, userAgent='\"Mozilla/5.0 (Macintosh; Intel Mac OS X 10_9_4) AppleWebKit/537.78.2 (KHTML, like Gecko) Version/7.0.6 Safari/537.78.2\"', userId='2219', hour='22'),\n",
              " Row(artist='Alex Smoke', auth='Logged In', firstName='Sophee', gender='F', itemInSession=8, lastName='Barker', length=405.99465, level='paid', location='San Luis Obispo-Paso Robles-Arroyo Grande, CA', method='PUT', page='NextSong', registration=1513009647284, sessionId=2372, song=\"Don't See The Point\", status=200, ts=1513720905284, userAgent='\"Mozilla/5.0 (Windows NT 6.1; WOW64) AppleWebKit/537.36 (KHTML, like Gecko) Chrome/36.0.1985.143 Safari/537.36\"', userId='2373', hour='22'),\n",
              " Row(artist=None, auth='Logged In', firstName='Jordyn', gender='F', itemInSession=0, lastName='Jones', length=None, level='free', location='Syracuse, NY', method='GET', page='Home', registration=1513648531284, sessionId=1746, song=None, status=200, ts=1513720913284, userAgent='\"Mozilla/5.0 (Macintosh; Intel Mac OS X 10_9_4) AppleWebKit/537.36 (KHTML, like Gecko) Chrome/37.0.2062.94 Safari/537.36\"', userId='1747', hour='22')]"
            ]
          },
          "metadata": {},
          "execution_count": 32
        }
      ]
    },
    {
      "cell_type": "code",
      "source": [
        "songs_in_hours = user_log.filter(user_log.page == \"NextSong\").groupby(user_log.hour).count().orderBy(user_log.hour.cast(\"float\"))"
      ],
      "metadata": {
        "id": "LPxc7Ljt21Bp"
      },
      "execution_count": 35,
      "outputs": []
    },
    {
      "cell_type": "code",
      "source": [
        "songs_in_hours.show()"
      ],
      "metadata": {
        "colab": {
          "base_uri": "https://localhost:8080/"
        },
        "id": "Nm4WjvFS3n64",
        "outputId": "653247d7-7b7c-44a4-869f-237ac99b42a3"
      },
      "execution_count": 36,
      "outputs": [
        {
          "output_type": "stream",
          "name": "stdout",
          "text": [
            "+----+-----+\n",
            "|hour|count|\n",
            "+----+-----+\n",
            "|   0|  456|\n",
            "|   1|  454|\n",
            "|   2|  382|\n",
            "|   3|  302|\n",
            "|   4|  352|\n",
            "|   5|  276|\n",
            "|   6|  348|\n",
            "|   7|  358|\n",
            "|   8|  375|\n",
            "|   9|  249|\n",
            "|  10|  216|\n",
            "|  11|  228|\n",
            "|  12|  251|\n",
            "|  13|  339|\n",
            "|  14|  462|\n",
            "|  15|  479|\n",
            "|  16|  484|\n",
            "|  17|  430|\n",
            "|  18|  362|\n",
            "|  19|  295|\n",
            "+----+-----+\n",
            "only showing top 20 rows\n",
            "\n"
          ]
        }
      ]
    },
    {
      "cell_type": "code",
      "source": [
        "songs_in_hours_pd = songs_in_hours.toPandas()"
      ],
      "metadata": {
        "id": "iUfpaN5y5Eha"
      },
      "execution_count": 37,
      "outputs": []
    },
    {
      "cell_type": "code",
      "source": [
        "plt.scatter(songs_in_hours_pd[\"hour\"],songs_in_hours_pd[\"count\"])\n",
        "plt.xlim(-1, 24)\n",
        "plt.ylim(0, 1.2 * max(songs_in_hours_pd[\"count\"]))\n",
        "plt.xlabel(\"Hour\")\n",
        "plt.ylabel(\"Songs played\")"
      ],
      "metadata": {
        "colab": {
          "base_uri": "https://localhost:8080/",
          "height": 296
        },
        "id": "kYTVPjMg5YLj",
        "outputId": "a1183a3c-0c90-4f10-9473-f1d42677f35e"
      },
      "execution_count": 40,
      "outputs": [
        {
          "output_type": "execute_result",
          "data": {
            "text/plain": [
              "Text(0, 0.5, 'Songs played')"
            ]
          },
          "metadata": {},
          "execution_count": 40
        },
        {
          "output_type": "display_data",
          "data": {
            "text/plain": [
              "<Figure size 432x288 with 1 Axes>"
            ],
            "image/png": "[encoded data removed]"
          },
          "metadata": {
            "needs_background": "light"
          }
        }
      ]
    },
    {
      "cell_type": "code",
      "source": [
        "user_log_valid = user_log.dropna(how = \"any\", subset = [\"userId\", \"sessionId\"])"
      ],
      "metadata": {
        "id": "uL5Rli4U6qKu"
      },
      "execution_count": 42,
      "outputs": []
    },
    {
      "cell_type": "code",
      "source": [
        "user_log_valid.count()"
      ],
      "metadata": {
        "colab": {
          "base_uri": "https://localhost:8080/"
        },
        "id": "ZcDjuyqW7UUs",
        "outputId": "858e9085-5cd8-4695-cff9-219c2bc8fba4"
      },
      "execution_count": 43,
      "outputs": [
        {
          "output_type": "execute_result",
          "data": {
            "text/plain": [
              "10000"
            ]
          },
          "metadata": {},
          "execution_count": 43
        }
      ]
    },
    {
      "cell_type": "code",
      "source": [
        "user_log.select(\"userId\").dropDuplicates().orderBy(\"userId\").show()"
      ],
      "metadata": {
        "colab": {
          "base_uri": "https://localhost:8080/"
        },
        "id": "8Dw6g50V7bzN",
        "outputId": "b11d273f-665f-485d-f29f-cb389c00766e"
      },
      "execution_count": 46,
      "outputs": [
        {
          "output_type": "stream",
          "name": "stdout",
          "text": [
            "+------+\n",
            "|userId|\n",
            "+------+\n",
            "|      |\n",
            "|    10|\n",
            "|   100|\n",
            "|  1000|\n",
            "|  1003|\n",
            "|  1005|\n",
            "|  1006|\n",
            "|  1017|\n",
            "|  1019|\n",
            "|  1020|\n",
            "|  1022|\n",
            "|  1025|\n",
            "|  1030|\n",
            "|  1035|\n",
            "|  1037|\n",
            "|   104|\n",
            "|  1040|\n",
            "|  1042|\n",
            "|  1043|\n",
            "|  1046|\n",
            "+------+\n",
            "only showing top 20 rows\n",
            "\n"
          ]
        }
      ]
    },
    {
      "cell_type": "code",
      "source": [
        "user_log_valid = user_log_valid.filter(user_log_valid.userId != \"\")"
      ],
      "metadata": {
        "id": "YLCKBmew7wCM"
      },
      "execution_count": 54,
      "outputs": []
    },
    {
      "cell_type": "code",
      "source": [
        "user_log_valid.count()"
      ],
      "metadata": {
        "colab": {
          "base_uri": "https://localhost:8080/"
        },
        "id": "irxWf8Bn8HQr",
        "outputId": "ba825fb5-33eb-4483-a0dc-399741daedaa"
      },
      "execution_count": 55,
      "outputs": [
        {
          "output_type": "execute_result",
          "data": {
            "text/plain": [
              "9664"
            ]
          },
          "metadata": {},
          "execution_count": 55
        }
      ]
    },
    {
      "cell_type": "code",
      "source": [
        "user_log_valid.filter(user_log_valid.page == \"Submit Downgrade\").show()"
      ],
      "metadata": {
        "colab": {
          "base_uri": "https://localhost:8080/"
        },
        "id": "q48JuCdj8x0O",
        "outputId": "3b88a71a-c09e-45b4-c455-93c1336c70b1"
      },
      "execution_count": 62,
      "outputs": [
        {
          "output_type": "stream",
          "name": "stdout",
          "text": [
            "+------+---------+---------+------+-------------+--------+------+-----+--------------------+------+----------------+-------------+---------+----+------+-------------+--------------------+------+----+\n",
            "|artist|     auth|firstName|gender|itemInSession|lastName|length|level|            location|method|            page| registration|sessionId|song|status|           ts|           userAgent|userId|hour|\n",
            "+------+---------+---------+------+-------------+--------+------+-----+--------------------+------+----------------+-------------+---------+----+------+-------------+--------------------+------+----+\n",
            "|  null|Logged In|    Kelly|     F|           24|  Newton|  null| paid|Houston-The Woodl...|   PUT|Submit Downgrade|1513283366284|     5931|null|   307|1513768454284|Mozilla/5.0 (Wind...|  1138|  11|\n",
            "+------+---------+---------+------+-------------+--------+------+-----+--------------------+------+----------------+-------------+---------+----+------+-------------+--------------------+------+----+\n",
            "\n"
          ]
        }
      ]
    },
    {
      "cell_type": "code",
      "source": [
        "user_log_valid.select([\"userId\", \"firstName\", \"LastName\", \"page\", \"level\", \"song\"]).where(user_log_valid.userId == \"1138\").collect()"
      ],
      "metadata": {
        "colab": {
          "base_uri": "https://localhost:8080/"
        },
        "id": "26RxEysv9h8r",
        "outputId": "12aa95cb-6d20-4732-d218-5f0b90dfbf37"
      },
      "execution_count": 64,
      "outputs": [
        {
          "output_type": "execute_result",
          "data": {
            "text/plain": [
              "[Row(userId='1138', firstName='Kelly', LastName='Newton', page='Home', level='paid', song=None),\n",
              " Row(userId='1138', firstName='Kelly', LastName='Newton', page='NextSong', level='paid', song='Everybody Everybody'),\n",
              " Row(userId='1138', firstName='Kelly', LastName='Newton', page='NextSong', level='paid', song='Gears'),\n",
              " Row(userId='1138', firstName='Kelly', LastName='Newton', page='NextSong', level='paid', song='Use Somebody'),\n",
              " Row(userId='1138', firstName='Kelly', LastName='Newton', page='NextSong', level='paid', song='Love Of My Life (1993 Digital Remaster)'),\n",
              " Row(userId='1138', firstName='Kelly', LastName='Newton', page='NextSong', level='paid', song='Down In The Valley Woe'),\n",
              " Row(userId='1138', firstName='Kelly', LastName='Newton', page='NextSong', level='paid', song='Treat Her Like A Lady'),\n",
              " Row(userId='1138', firstName='Kelly', LastName='Newton', page='NextSong', level='paid', song=\"Everybody Thinks You're An Angel\"),\n",
              " Row(userId='1138', firstName='Kelly', LastName='Newton', page='NextSong', level='paid', song='Fourteen Wives'),\n",
              " Row(userId='1138', firstName='Kelly', LastName='Newton', page='NextSong', level='paid', song='Love On The Rocks'),\n",
              " Row(userId='1138', firstName='Kelly', LastName='Newton', page='NextSong', level='paid', song='Breakeven'),\n",
              " Row(userId='1138', firstName='Kelly', LastName='Newton', page='NextSong', level='paid', song='Leaf House'),\n",
              " Row(userId='1138', firstName='Kelly', LastName='Newton', page='NextSong', level='paid', song='NAISEN KANSSA'),\n",
              " Row(userId='1138', firstName='Kelly', LastName='Newton', page='NextSong', level='paid', song=\"You're In My Heart\"),\n",
              " Row(userId='1138', firstName='Kelly', LastName='Newton', page='NextSong', level='paid', song='Roll On Down The Highway'),\n",
              " Row(userId='1138', firstName='Kelly', LastName='Newton', page='NextSong', level='paid', song='Plasticities (Remix)'),\n",
              " Row(userId='1138', firstName='Kelly', LastName='Newton', page='NextSong', level='paid', song='Secrets'),\n",
              " Row(userId='1138', firstName='Kelly', LastName='Newton', page='NextSong', level='paid', song='Hello'),\n",
              " Row(userId='1138', firstName='Kelly', LastName='Newton', page='NextSong', level='paid', song='I Never Told You'),\n",
              " Row(userId='1138', firstName='Kelly', LastName='Newton', page='NextSong', level='paid', song='Love Break Me'),\n",
              " Row(userId='1138', firstName='Kelly', LastName='Newton', page='NextSong', level='paid', song='One Touch One Bounce'),\n",
              " Row(userId='1138', firstName='Kelly', LastName='Newton', page='NextSong', level='paid', song='Undo'),\n",
              " Row(userId='1138', firstName='Kelly', LastName='Newton', page='NextSong', level='paid', song='Overdue (Blackbeard Remix)'),\n",
              " Row(userId='1138', firstName='Kelly', LastName='Newton', page='NextSong', level='paid', song='Slave To Love (1999 Digital Remaster)'),\n",
              " Row(userId='1138', firstName='Kelly', LastName='Newton', page='NextSong', level='paid', song='Stronger'),\n",
              " Row(userId='1138', firstName='Kelly', LastName='Newton', page='NextSong', level='paid', song='All Of Us (Album Version)'),\n",
              " Row(userId='1138', firstName='Kelly', LastName='Newton', page='NextSong', level='paid', song='Sehr kosmisch'),\n",
              " Row(userId='1138', firstName='Kelly', LastName='Newton', page='NextSong', level='paid', song='March Of The Celts'),\n",
              " Row(userId='1138', firstName='Kelly', LastName='Newton', page='NextSong', level='paid', song='Electricity'),\n",
              " Row(userId='1138', firstName='Kelly', LastName='Newton', page='NextSong', level='paid', song='Aces High'),\n",
              " Row(userId='1138', firstName='Kelly', LastName='Newton', page='NextSong', level='paid', song='Bananeira'),\n",
              " Row(userId='1138', firstName='Kelly', LastName='Newton', page='NextSong', level='paid', song='The General'),\n",
              " Row(userId='1138', firstName='Kelly', LastName='Newton', page='NextSong', level='paid', song='HÃ\\x83Â©roe De Leyenda (VersiÃ\\x83Â³n Maxi)'),\n",
              " Row(userId='1138', firstName='Kelly', LastName='Newton', page='NextSong', level='paid', song=\"Don't Stop The Music\"),\n",
              " Row(userId='1138', firstName='Kelly', LastName='Newton', page='NextSong', level='paid', song=\"You're The One\"),\n",
              " Row(userId='1138', firstName='Kelly', LastName='Newton', page='NextSong', level='paid', song='Entering White Cecilia'),\n",
              " Row(userId='1138', firstName='Kelly', LastName='Newton', page='NextSong', level='paid', song='Piccolo Cesare'),\n",
              " Row(userId='1138', firstName='Kelly', LastName='Newton', page='Help', level='paid', song=None),\n",
              " Row(userId='1138', firstName='Kelly', LastName='Newton', page='NextSong', level='paid', song='Last Christmas (Album Version)'),\n",
              " Row(userId='1138', firstName='Kelly', LastName='Newton', page='NextSong', level='paid', song='You Shook Me'),\n",
              " Row(userId='1138', firstName='Kelly', LastName='Newton', page='NextSong', level='paid', song='Going Steady'),\n",
              " Row(userId='1138', firstName='Kelly', LastName='Newton', page='NextSong', level='paid', song='My Name Is'),\n",
              " Row(userId='1138', firstName='Kelly', LastName='Newton', page='NextSong', level='paid', song='Undo'),\n",
              " Row(userId='1138', firstName='Kelly', LastName='Newton', page='NextSong', level='paid', song='Secrets'),\n",
              " Row(userId='1138', firstName='Kelly', LastName='Newton', page='NextSong', level='paid', song='Good Times Gone (Album Version)'),\n",
              " Row(userId='1138', firstName='Kelly', LastName='Newton', page='NextSong', level='paid', song='Angelito'),\n",
              " Row(userId='1138', firstName='Kelly', LastName='Newton', page='NextSong', level='paid', song='Batdance ( LP Version )'),\n",
              " Row(userId='1138', firstName='Kelly', LastName='Newton', page='Home', level='paid', song=None),\n",
              " Row(userId='1138', firstName='Kelly', LastName='Newton', page='NextSong', level='paid', song='DiÃ\\x83Â¡kdal'),\n",
              " Row(userId='1138', firstName='Kelly', LastName='Newton', page='NextSong', level='paid', song='Whirring'),\n",
              " Row(userId='1138', firstName='Kelly', LastName='Newton', page='NextSong', level='paid', song='Potholderz (feat. Count Bass D)'),\n",
              " Row(userId='1138', firstName='Kelly', LastName='Newton', page='NextSong', level='paid', song='Seaside'),\n",
              " Row(userId='1138', firstName='Kelly', LastName='Newton', page='NextSong', level='paid', song='Louder Than A Bomb'),\n",
              " Row(userId='1138', firstName='Kelly', LastName='Newton', page='NextSong', level='paid', song='Just Like You'),\n",
              " Row(userId='1138', firstName='Kelly', LastName='Newton', page='NextSong', level='paid', song=\"You're The One\"),\n",
              " Row(userId='1138', firstName='Kelly', LastName='Newton', page='NextSong', level='paid', song='Turn It Again (Album Version)'),\n",
              " Row(userId='1138', firstName='Kelly', LastName='Newton', page='NextSong', level='paid', song='Everywhere I Go'),\n",
              " Row(userId='1138', firstName='Kelly', LastName='Newton', page='NextSong', level='paid', song=\"Easy Skankin'\"),\n",
              " Row(userId='1138', firstName='Kelly', LastName='Newton', page='NextSong', level='paid', song='Roses'),\n",
              " Row(userId='1138', firstName='Kelly', LastName='Newton', page='NextSong', level='paid', song='Killing Me Softly With His Song'),\n",
              " Row(userId='1138', firstName='Kelly', LastName='Newton', page='NextSong', level='paid', song='The Razor (Album Version)'),\n",
              " Row(userId='1138', firstName='Kelly', LastName='Newton', page='NextSong', level='paid', song='Idols and Anchors'),\n",
              " Row(userId='1138', firstName='Kelly', LastName='Newton', page='Downgrade', level='paid', song=None),\n",
              " Row(userId='1138', firstName='Kelly', LastName='Newton', page='Submit Downgrade', level='paid', song=None),\n",
              " Row(userId='1138', firstName='Kelly', LastName='Newton', page='Home', level='free', song=None),\n",
              " Row(userId='1138', firstName='Kelly', LastName='Newton', page='NextSong', level='free', song='Bones'),\n",
              " Row(userId='1138', firstName='Kelly', LastName='Newton', page='Home', level='free', song=None),\n",
              " Row(userId='1138', firstName='Kelly', LastName='Newton', page='NextSong', level='free', song='Grenouilles Mantidactylus (Small Frogs)')]"
            ]
          },
          "metadata": {},
          "execution_count": 64
        }
      ]
    },
    {
      "cell_type": "code",
      "source": [
        "flag_downgrade_event = udf(lambda x: 1 if x == \"Submit Downgrade\" else 0, IntegerType())"
      ],
      "metadata": {
        "id": "Fl1eHvHkJCSZ"
      },
      "execution_count": 65,
      "outputs": []
    },
    {
      "cell_type": "code",
      "source": [
        "user_log_valid = user_log_valid.withColumn(\"downGraded\", flag_downgrade_event(\"page\"))"
      ],
      "metadata": {
        "id": "6Gj643JoJxU3"
      },
      "execution_count": 66,
      "outputs": []
    },
    {
      "cell_type": "code",
      "source": [
        "user_log_valid.head()"
      ],
      "metadata": {
        "colab": {
          "base_uri": "https://localhost:8080/"
        },
        "id": "nLlIZmI9KHpy",
        "outputId": "4f07bc9e-276d-4b7c-a88d-b1c9ed541f1c"
      },
      "execution_count": 67,
      "outputs": [
        {
          "output_type": "execute_result",
          "data": {
            "text/plain": [
              "Row(artist='Showaddywaddy', auth='Logged In', firstName='Kenneth', gender='M', itemInSession=112, lastName='Matthews', length=232.93342, level='paid', location='Charlotte-Concord-Gastonia, NC-SC', method='PUT', page='NextSong', registration=1509380319284, sessionId=5132, song='Christmas Tears Will Fall', status=200, ts=1513720872284, userAgent='\"Mozilla/5.0 (Windows NT 6.1) AppleWebKit/537.36 (KHTML, like Gecko) Chrome/36.0.1985.125 Safari/537.36\"', userId='1046', hour='22', downGraded=0)"
            ]
          },
          "metadata": {},
          "execution_count": 67
        }
      ]
    },
    {
      "cell_type": "code",
      "source": [
        "from pyspark.sql import Window"
      ],
      "metadata": {
        "id": "lgVsH2BlMaHr"
      },
      "execution_count": 69,
      "outputs": []
    },
    {
      "cell_type": "code",
      "source": [
        "windowval = Window.partitionBy(\"userId\").orderBy(desc(\"ts\")).rangeBetween(Window.unboundedPreceding, 0)"
      ],
      "metadata": {
        "id": "UJuWEK24MjlL"
      },
      "execution_count": 71,
      "outputs": []
    },
    {
      "cell_type": "code",
      "source": [
        "user_log_valid = user_log_valid.withColumn(\"phase\", Fsum(\"downgraded\").over(windowval))"
      ],
      "metadata": {
        "id": "7P5ULjQrM6er"
      },
      "execution_count": 72,
      "outputs": []
    },
    {
      "cell_type": "code",
      "source": [
        "user_log_valid.select([\"userId\", \"firstname\", \"ts\", \"page\", \"level\", \"phase\"]).where(user_log_valid.userId == \"1138\").sort(\"ts\").collect()"
      ],
      "metadata": {
        "colab": {
          "base_uri": "https://localhost:8080/"
        },
        "id": "ZEapjQLbNRg6",
        "outputId": "c1aa1aca-0e3b-4b5e-c667-0b3c37469ae8"
      },
      "execution_count": 75,
      "outputs": [
        {
          "output_type": "execute_result",
          "data": {
            "text/plain": [
              "[Row(userId='1138', firstname='Kelly', ts=1513729066284, page='Home', level='paid', phase=1),\n",
              " Row(userId='1138', firstname='Kelly', ts=1513729066284, page='NextSong', level='paid', phase=1),\n",
              " Row(userId='1138', firstname='Kelly', ts=1513729313284, page='NextSong', level='paid', phase=1),\n",
              " Row(userId='1138', firstname='Kelly', ts=1513729552284, page='NextSong', level='paid', phase=1),\n",
              " Row(userId='1138', firstname='Kelly', ts=1513729783284, page='NextSong', level='paid', phase=1),\n",
              " Row(userId='1138', firstname='Kelly', ts=1513730001284, page='NextSong', level='paid', phase=1),\n",
              " Row(userId='1138', firstname='Kelly', ts=1513730263284, page='NextSong', level='paid', phase=1),\n",
              " Row(userId='1138', firstname='Kelly', ts=1513730518284, page='NextSong', level='paid', phase=1),\n",
              " Row(userId='1138', firstname='Kelly', ts=1513730768284, page='NextSong', level='paid', phase=1),\n",
              " Row(userId='1138', firstname='Kelly', ts=1513731182284, page='NextSong', level='paid', phase=1),\n",
              " Row(userId='1138', firstname='Kelly', ts=1513731435284, page='NextSong', level='paid', phase=1),\n",
              " Row(userId='1138', firstname='Kelly', ts=1513731695284, page='NextSong', level='paid', phase=1),\n",
              " Row(userId='1138', firstname='Kelly', ts=1513731857284, page='NextSong', level='paid', phase=1),\n",
              " Row(userId='1138', firstname='Kelly', ts=1513732160284, page='NextSong', level='paid', phase=1),\n",
              " Row(userId='1138', firstname='Kelly', ts=1513732302284, page='NextSong', level='paid', phase=1),\n",
              " Row(userId='1138', firstname='Kelly', ts=1513732540284, page='NextSong', level='paid', phase=1),\n",
              " Row(userId='1138', firstname='Kelly', ts=1513732770284, page='NextSong', level='paid', phase=1),\n",
              " Row(userId='1138', firstname='Kelly', ts=1513732994284, page='NextSong', level='paid', phase=1),\n",
              " Row(userId='1138', firstname='Kelly', ts=1513733223284, page='NextSong', level='paid', phase=1),\n",
              " Row(userId='1138', firstname='Kelly', ts=1513733456284, page='NextSong', level='paid', phase=1),\n",
              " Row(userId='1138', firstname='Kelly', ts=1513733738284, page='NextSong', level='paid', phase=1),\n",
              " Row(userId='1138', firstname='Kelly', ts=1513733941284, page='NextSong', level='paid', phase=1),\n",
              " Row(userId='1138', firstname='Kelly', ts=1513734289284, page='NextSong', level='paid', phase=1),\n",
              " Row(userId='1138', firstname='Kelly', ts=1513734598284, page='NextSong', level='paid', phase=1),\n",
              " Row(userId='1138', firstname='Kelly', ts=1513734863284, page='NextSong', level='paid', phase=1),\n",
              " Row(userId='1138', firstname='Kelly', ts=1513735174284, page='NextSong', level='paid', phase=1),\n",
              " Row(userId='1138', firstname='Kelly', ts=1513735385284, page='NextSong', level='paid', phase=1),\n",
              " Row(userId='1138', firstname='Kelly', ts=1513736040284, page='NextSong', level='paid', phase=1),\n",
              " Row(userId='1138', firstname='Kelly', ts=1513736237284, page='NextSong', level='paid', phase=1),\n",
              " Row(userId='1138', firstname='Kelly', ts=1513736446284, page='NextSong', level='paid', phase=1),\n",
              " Row(userId='1138', firstname='Kelly', ts=1513736709284, page='NextSong', level='paid', phase=1),\n",
              " Row(userId='1138', firstname='Kelly', ts=1513736915284, page='NextSong', level='paid', phase=1),\n",
              " Row(userId='1138', firstname='Kelly', ts=1513737160284, page='NextSong', level='paid', phase=1),\n",
              " Row(userId='1138', firstname='Kelly', ts=1513737460284, page='NextSong', level='paid', phase=1),\n",
              " Row(userId='1138', firstname='Kelly', ts=1513737728284, page='NextSong', level='paid', phase=1),\n",
              " Row(userId='1138', firstname='Kelly', ts=1513737936284, page='NextSong', level='paid', phase=1),\n",
              " Row(userId='1138', firstname='Kelly', ts=1513738144284, page='NextSong', level='paid', phase=1),\n",
              " Row(userId='1138', firstname='Kelly', ts=1513738197284, page='Help', level='paid', phase=1),\n",
              " Row(userId='1138', firstname='Kelly', ts=1513738432284, page='NextSong', level='paid', phase=1),\n",
              " Row(userId='1138', firstname='Kelly', ts=1513763195284, page='NextSong', level='paid', phase=1),\n",
              " Row(userId='1138', firstname='Kelly', ts=1513763453284, page='NextSong', level='paid', phase=1),\n",
              " Row(userId='1138', firstname='Kelly', ts=1513763622284, page='NextSong', level='paid', phase=1),\n",
              " Row(userId='1138', firstname='Kelly', ts=1513763890284, page='NextSong', level='paid', phase=1),\n",
              " Row(userId='1138', firstname='Kelly', ts=1513764238284, page='NextSong', level='paid', phase=1),\n",
              " Row(userId='1138', firstname='Kelly', ts=1513764462284, page='NextSong', level='paid', phase=1),\n",
              " Row(userId='1138', firstname='Kelly', ts=1513764782284, page='NextSong', level='paid', phase=1),\n",
              " Row(userId='1138', firstname='Kelly', ts=1513765075284, page='NextSong', level='paid', phase=1),\n",
              " Row(userId='1138', firstname='Kelly', ts=1513765075284, page='Home', level='paid', phase=1),\n",
              " Row(userId='1138', firstname='Kelly', ts=1513765448284, page='NextSong', level='paid', phase=1),\n",
              " Row(userId='1138', firstname='Kelly', ts=1513765655284, page='NextSong', level='paid', phase=1),\n",
              " Row(userId='1138', firstname='Kelly', ts=1513765818284, page='NextSong', level='paid', phase=1),\n",
              " Row(userId='1138', firstname='Kelly', ts=1513766091284, page='NextSong', level='paid', phase=1),\n",
              " Row(userId='1138', firstname='Kelly', ts=1513766189284, page='NextSong', level='paid', phase=1),\n",
              " Row(userId='1138', firstname='Kelly', ts=1513766385284, page='NextSong', level='paid', phase=1),\n",
              " Row(userId='1138', firstname='Kelly', ts=1513766599284, page='NextSong', level='paid', phase=1),\n",
              " Row(userId='1138', firstname='Kelly', ts=1513766838284, page='NextSong', level='paid', phase=1),\n",
              " Row(userId='1138', firstname='Kelly', ts=1513767203284, page='NextSong', level='paid', phase=1),\n",
              " Row(userId='1138', firstname='Kelly', ts=1513767413284, page='NextSong', level='paid', phase=1),\n",
              " Row(userId='1138', firstname='Kelly', ts=1513767643284, page='NextSong', level='paid', phase=1),\n",
              " Row(userId='1138', firstname='Kelly', ts=1513768012284, page='NextSong', level='paid', phase=1),\n",
              " Row(userId='1138', firstname='Kelly', ts=1513768242284, page='NextSong', level='paid', phase=1),\n",
              " Row(userId='1138', firstname='Kelly', ts=1513768452284, page='NextSong', level='paid', phase=1),\n",
              " Row(userId='1138', firstname='Kelly', ts=1513768453284, page='Downgrade', level='paid', phase=1),\n",
              " Row(userId='1138', firstname='Kelly', ts=1513768454284, page='Submit Downgrade', level='paid', phase=1),\n",
              " Row(userId='1138', firstname='Kelly', ts=1513768456284, page='Home', level='free', phase=0),\n",
              " Row(userId='1138', firstname='Kelly', ts=1513814880284, page='NextSong', level='free', phase=0),\n",
              " Row(userId='1138', firstname='Kelly', ts=1513821430284, page='Home', level='free', phase=0),\n",
              " Row(userId='1138', firstname='Kelly', ts=1513833144284, page='NextSong', level='free', phase=0)]"
            ]
          },
          "metadata": {},
          "execution_count": 75
        }
      ]
    }
  ]
}